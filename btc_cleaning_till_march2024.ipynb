{
 "cells": [
  {
   "cell_type": "code",
   "execution_count": 30,
   "id": "9e28c70b-b8b4-4735-b921-a9948e167bf5",
   "metadata": {},
   "outputs": [],
   "source": [
    "import pandas as pd"
   ]
  },
  {
   "cell_type": "code",
   "execution_count": 32,
   "id": "be643bf6-d360-40ab-af0a-d87c05117333",
   "metadata": {},
   "outputs": [
    {
     "data": {
      "text/html": [
       "<div>\n",
       "<style scoped>\n",
       "    .dataframe tbody tr th:only-of-type {\n",
       "        vertical-align: middle;\n",
       "    }\n",
       "\n",
       "    .dataframe tbody tr th {\n",
       "        vertical-align: top;\n",
       "    }\n",
       "\n",
       "    .dataframe thead th {\n",
       "        text-align: right;\n",
       "    }\n",
       "</style>\n",
       "<table border=\"1\" class=\"dataframe\">\n",
       "  <thead>\n",
       "    <tr style=\"text-align: right;\">\n",
       "      <th></th>\n",
       "      <th>Date</th>\n",
       "      <th>Price</th>\n",
       "      <th>Open</th>\n",
       "      <th>High</th>\n",
       "      <th>Low</th>\n",
       "      <th>Vol.</th>\n",
       "      <th>Change %</th>\n",
       "    </tr>\n",
       "  </thead>\n",
       "  <tbody>\n",
       "    <tr>\n",
       "      <th>0</th>\n",
       "      <td>03/24/2024</td>\n",
       "      <td>67,211.9</td>\n",
       "      <td>64,036.5</td>\n",
       "      <td>67,587.8</td>\n",
       "      <td>63,812.9</td>\n",
       "      <td>65.59K</td>\n",
       "      <td>4.96%</td>\n",
       "    </tr>\n",
       "    <tr>\n",
       "      <th>1</th>\n",
       "      <td>03/23/2024</td>\n",
       "      <td>64,037.8</td>\n",
       "      <td>63,785.6</td>\n",
       "      <td>65,972.4</td>\n",
       "      <td>63,074.9</td>\n",
       "      <td>35.11K</td>\n",
       "      <td>0.40%</td>\n",
       "    </tr>\n",
       "    <tr>\n",
       "      <th>2</th>\n",
       "      <td>03/22/2024</td>\n",
       "      <td>63,785.5</td>\n",
       "      <td>65,501.5</td>\n",
       "      <td>66,633.3</td>\n",
       "      <td>62,328.3</td>\n",
       "      <td>72.43K</td>\n",
       "      <td>-2.62%</td>\n",
       "    </tr>\n",
       "    <tr>\n",
       "      <th>3</th>\n",
       "      <td>03/21/2024</td>\n",
       "      <td>65,503.8</td>\n",
       "      <td>67,860.0</td>\n",
       "      <td>68,161.7</td>\n",
       "      <td>64,616.1</td>\n",
       "      <td>75.26K</td>\n",
       "      <td>-3.46%</td>\n",
       "    </tr>\n",
       "    <tr>\n",
       "      <th>4</th>\n",
       "      <td>03/20/2024</td>\n",
       "      <td>67,854.0</td>\n",
       "      <td>62,046.8</td>\n",
       "      <td>68,029.5</td>\n",
       "      <td>60,850.9</td>\n",
       "      <td>133.53K</td>\n",
       "      <td>9.35%</td>\n",
       "    </tr>\n",
       "  </tbody>\n",
       "</table>\n",
       "</div>"
      ],
      "text/plain": [
       "         Date     Price      Open      High       Low     Vol. Change %\n",
       "0  03/24/2024  67,211.9  64,036.5  67,587.8  63,812.9   65.59K    4.96%\n",
       "1  03/23/2024  64,037.8  63,785.6  65,972.4  63,074.9   35.11K    0.40%\n",
       "2  03/22/2024  63,785.5  65,501.5  66,633.3  62,328.3   72.43K   -2.62%\n",
       "3  03/21/2024  65,503.8  67,860.0  68,161.7  64,616.1   75.26K   -3.46%\n",
       "4  03/20/2024  67,854.0  62,046.8  68,029.5  60,850.9  133.53K    9.35%"
      ]
     },
     "execution_count": 32,
     "metadata": {},
     "output_type": "execute_result"
    }
   ],
   "source": [
    "df = pd.read_csv(\"Bitcoin Historical Data (2).csv\")\n",
    "df.head()"
   ]
  },
  {
   "cell_type": "code",
   "execution_count": 34,
   "id": "de05786f-5f60-4465-98e3-6261d6791b53",
   "metadata": {},
   "outputs": [
    {
     "data": {
      "text/plain": [
       "Index(['Date', 'Price', 'Open', 'High', 'Low', 'Vol.', 'Change %'], dtype='object')"
      ]
     },
     "execution_count": 34,
     "metadata": {},
     "output_type": "execute_result"
    }
   ],
   "source": [
    "df.columns"
   ]
  },
  {
   "cell_type": "code",
   "execution_count": 28,
   "id": "ac1d430b-9d83-4298-bf67-f538265e4ddb",
   "metadata": {},
   "outputs": [
    {
     "name": "stdout",
     "output_type": "stream",
     "text": [
      "Original column names:\n",
      "['Date', 'Price', 'Timestamp']\n"
     ]
    }
   ],
   "source": [
    "# Show original column names\n",
    "print(\"Original column names:\")\n",
    "print(df.columns.tolist())\n"
   ]
  },
  {
   "cell_type": "code",
   "execution_count": 36,
   "id": "e9bb3dcc-f911-4d23-b496-cb779aedea96",
   "metadata": {},
   "outputs": [
    {
     "data": {
      "text/html": [
       "<div>\n",
       "<style scoped>\n",
       "    .dataframe tbody tr th:only-of-type {\n",
       "        vertical-align: middle;\n",
       "    }\n",
       "\n",
       "    .dataframe tbody tr th {\n",
       "        vertical-align: top;\n",
       "    }\n",
       "\n",
       "    .dataframe thead th {\n",
       "        text-align: right;\n",
       "    }\n",
       "</style>\n",
       "<table border=\"1\" class=\"dataframe\">\n",
       "  <thead>\n",
       "    <tr style=\"text-align: right;\">\n",
       "      <th></th>\n",
       "      <th>Date</th>\n",
       "      <th>Close</th>\n",
       "      <th>Open</th>\n",
       "      <th>High</th>\n",
       "      <th>Low</th>\n",
       "      <th>Volume</th>\n",
       "      <th>Change_Pct</th>\n",
       "    </tr>\n",
       "  </thead>\n",
       "  <tbody>\n",
       "    <tr>\n",
       "      <th>0</th>\n",
       "      <td>2010-07-18</td>\n",
       "      <td>0.1</td>\n",
       "      <td>0.0</td>\n",
       "      <td>0.1</td>\n",
       "      <td>0.1</td>\n",
       "      <td>80.0</td>\n",
       "      <td>0.0</td>\n",
       "    </tr>\n",
       "    <tr>\n",
       "      <th>1</th>\n",
       "      <td>2010-07-19</td>\n",
       "      <td>0.1</td>\n",
       "      <td>0.1</td>\n",
       "      <td>0.1</td>\n",
       "      <td>0.1</td>\n",
       "      <td>570.0</td>\n",
       "      <td>0.0</td>\n",
       "    </tr>\n",
       "    <tr>\n",
       "      <th>2</th>\n",
       "      <td>2010-07-20</td>\n",
       "      <td>0.1</td>\n",
       "      <td>0.1</td>\n",
       "      <td>0.1</td>\n",
       "      <td>0.1</td>\n",
       "      <td>260.0</td>\n",
       "      <td>0.0</td>\n",
       "    </tr>\n",
       "    <tr>\n",
       "      <th>3</th>\n",
       "      <td>2010-07-21</td>\n",
       "      <td>0.1</td>\n",
       "      <td>0.1</td>\n",
       "      <td>0.1</td>\n",
       "      <td>0.1</td>\n",
       "      <td>580.0</td>\n",
       "      <td>0.0</td>\n",
       "    </tr>\n",
       "    <tr>\n",
       "      <th>4</th>\n",
       "      <td>2010-07-22</td>\n",
       "      <td>0.1</td>\n",
       "      <td>0.1</td>\n",
       "      <td>0.1</td>\n",
       "      <td>0.1</td>\n",
       "      <td>2160.0</td>\n",
       "      <td>0.0</td>\n",
       "    </tr>\n",
       "  </tbody>\n",
       "</table>\n",
       "</div>"
      ],
      "text/plain": [
       "        Date  Close  Open  High  Low  Volume  Change_Pct\n",
       "0 2010-07-18    0.1   0.0   0.1  0.1    80.0         0.0\n",
       "1 2010-07-19    0.1   0.1   0.1  0.1   570.0         0.0\n",
       "2 2010-07-20    0.1   0.1   0.1  0.1   260.0         0.0\n",
       "3 2010-07-21    0.1   0.1   0.1  0.1   580.0         0.0\n",
       "4 2010-07-22    0.1   0.1   0.1  0.1  2160.0         0.0"
      ]
     },
     "execution_count": 36,
     "metadata": {},
     "output_type": "execute_result"
    }
   ],
   "source": [
    "# Step 1: Rename columns for consistency\n",
    "df = df.rename(columns={\n",
    "    'Price': 'Close',\n",
    "    'Vol.': 'Volume',\n",
    "    'Change %': 'Change_Pct'\n",
    "})\n",
    "\n",
    "# Step 2: Convert Date to datetime format\n",
    "df['Date'] = pd.to_datetime(df['Date'], errors='coerce')\n",
    "\n",
    "# Step 3: Convert numeric price columns\n",
    "for col in ['Open', 'High', 'Low', 'Close']:\n",
    "    df[col] = df[col].replace({',': ''}, regex=True).astype(float)\n",
    "\n",
    "# Step 4: Convert Volume (handle 'K', 'M')\n",
    "def convert_volume(val):\n",
    "    val = str(val).strip()\n",
    "    if 'K' in val:\n",
    "        return float(val.replace('K', '').replace(',', '')) * 1000\n",
    "    elif 'M' in val:\n",
    "        return float(val.replace('M', '').replace(',', '')) * 1_000_000\n",
    "    else:\n",
    "        return pd.to_numeric(val.replace(',', ''), errors='coerce')\n",
    "\n",
    "df['Volume'] = df['Volume'].apply(convert_volume)\n",
    "\n",
    "# Step 5: Clean Change_Pct column (remove % and convert to float)\n",
    "df['Change_Pct'] = df['Change_Pct'].astype(str).str.replace('%', '').str.replace(',', '').astype(float)\n",
    "\n",
    "# Step 6: Sort by date ascending\n",
    "df = df.sort_values('Date').reset_index(drop=True)\n",
    "\n",
    "# Preview cleaned data\n",
    "df.head()\n"
   ]
  },
  {
   "cell_type": "code",
   "execution_count": 38,
   "id": "a7ac7455-f2f2-434a-9d0c-915ccde7b6f4",
   "metadata": {},
   "outputs": [],
   "source": [
    "df.to_csv(\"btc_cleaning_tillmarch2024.csv\", index=False)\n"
   ]
  },
  {
   "cell_type": "code",
   "execution_count": null,
   "id": "bf6ed3a4-11a9-46ce-83ad-6eb93acb272e",
   "metadata": {},
   "outputs": [],
   "source": []
  }
 ],
 "metadata": {
  "kernelspec": {
   "display_name": "Python [conda env:base] *",
   "language": "python",
   "name": "conda-base-py"
  },
  "language_info": {
   "codemirror_mode": {
    "name": "ipython",
    "version": 3
   },
   "file_extension": ".py",
   "mimetype": "text/x-python",
   "name": "python",
   "nbconvert_exporter": "python",
   "pygments_lexer": "ipython3",
   "version": "3.12.7"
  }
 },
 "nbformat": 4,
 "nbformat_minor": 5
}
